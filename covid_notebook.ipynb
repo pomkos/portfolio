{
 "cells": [
  {
   "cell_type": "code",
   "execution_count": 1,
   "metadata": {},
   "outputs": [],
   "source": [
    "######################\n",
    "## Import Libraries ##\n",
    "######################\n",
    "import pandas as pd\n",
    "import streamlit as st\n",
    "import matplotlib.pyplot as plt\n",
    "import plotly.express as px\n",
    "import sqlalchemy as sq"
   ]
  },
  {
   "cell_type": "code",
   "execution_count": 16,
   "metadata": {},
   "outputs": [
    {
     "data": {
      "text/plain": [
       "['date', 'location']"
      ]
     },
     "execution_count": 16,
     "metadata": {},
     "output_type": "execute_result"
    }
   ],
   "source": [
    "px.line()"
   ]
  },
  {
   "cell_type": "code",
   "execution_count": 27,
   "metadata": {},
   "outputs": [],
   "source": [
    "location = [obj=='date' for obj in z]"
   ]
  },
  {
   "cell_type": "code",
   "execution_count": 15,
   "metadata": {},
   "outputs": [
    {
     "name": "stdout",
     "output_type": "stream",
     "text": [
      "True 0\n",
      "False\n"
     ]
    }
   ],
   "source": [
    "for i,obj in enumerate(z):\n",
    "    if obj == 'date':\n",
    "        print(True,i)\n",
    "    else:\n",
    "        print(False)"
   ]
  },
  {
   "cell_type": "code",
   "execution_count": 10,
   "metadata": {},
   "outputs": [],
   "source": [
    "df = pd.read_sql_table('covid_world',engine,parse_dates='date')"
   ]
  },
  {
   "cell_type": "code",
   "execution_count": 11,
   "metadata": {},
   "outputs": [
    {
     "data": {
      "text/plain": [
       "<AxesSubplot:xlabel='date'>"
      ]
     },
     "execution_count": 11,
     "metadata": {},
     "output_type": "execute_result"
    },
    {
     "data": {
      "image/png": "[encoded data removed]",
      "text/plain": [
       "<Figure size 432x288 with 1 Axes>"
      ]
     },
     "metadata": {
      "needs_background": "light"
     },
     "output_type": "display_data"
    }
   ],
   "source": [
    "df[df['iso_code']=='ABW'].plot('date','new_cases')"
   ]
  },
  {
   "cell_type": "code",
   "execution_count": 13,
   "metadata": {},
   "outputs": [],
   "source": [
    "df_corr = df[['new_cases_per_million','hosp_patients_per_million','location']]"
   ]
  },
  {
   "cell_type": "code",
   "execution_count": 23,
   "metadata": {},
   "outputs": [],
   "source": [
    "### plt.scatter('new_cases_per_million','hosp_patients_per_million',new_df.dropna())"
   ]
  },
  {
   "cell_type": "code",
   "execution_count": null,
   "metadata": {},
   "outputs": [],
   "source": [
    "df = df[(df['location']=='United States') | (df['location']=='Hungary') | (df['location']=='Jordan')]\n",
    "\n",
    "d_mill = px.line(df,\n",
    "              x='date',\n",
    "              y='new_deaths_per_million',\n",
    "              color='location',\n",
    "              labels={\n",
    "                  'date':'Date',\n",
    "                  'new_deaths_per_million':'New deaths per million'\n",
    "              }\n",
    "             )\n",
    "\n",
    "h_mill = px.line(df,\n",
    "                 x='date',\n",
    "                 y='hosp_patients_per_million',\n",
    "                 color='location',\n",
    "                 labels={\n",
    "                     'date':'Date',\n",
    "                     'hosp_patients_per_million':'Hospital patients per million'\n",
    "                 }\n",
    "                )\n",
    "\n",
    "p_rate = px.line(df,\n",
    "                 x='date',\n",
    "                 y='positive_rate',\n",
    "                 color='location',\n",
    "                 labels={\n",
    "                     'date':'Date',\n",
    "                     'positive_rate':'Positivity Rate'\n",
    "                 }\n",
    "                )\n",
    "compar = px.scatter(df,x='new_cases_per_million',\n",
    "                    y='hosp_patients_per_million',\n",
    "                    color='location')\n",
    "def app():\n",
    "    st.title('Covid Dash')\n",
    "    options = ['Deaths per mill','Hosp patients per mill','Positivity rate','Comparison']\n",
    "    selected = st.selectbox('Plots',options,index=2)\n",
    "\n",
    "    if 'Deaths' in selected:\n",
    "        st.plotly_chart(d_mill,use_container_width = False)\n",
    "    if 'Hosp' in selected:\n",
    "        st.plotly_chart(h_mill,use_container_width = False)\n",
    "    if 'rate' in selected:\n",
    "        st.plotly_chart(p_rate,use_container_width = False)\n",
    "    if 'Compar' in selected:\n",
    "        st.plotly_chart(compar, use_container_width = False)\n",
    "        df_corr = df[['new_cases_per_million','hosp_patients_per_million','location']]\n",
    "        df_corr = df_corr[df_corr['location'] != 'Jordan']\n",
    "        corr = df_corr.groupby('location').corr()['hosp_patients_per_million']\n",
    "        st.write(f'Correlation in Hungary: {round(corr.reset_index().iloc[0,2],2)}')\n",
    "        st.write(f'Correlation in USA: {round(corr.reset_index().iloc[2,2],2)}')\n",
    "    update = st.button('Update Database')\n",
    "    if update == True:\n",
    "        from apps import update_covid_db as ucd\n",
    "        result = ucd.app()\n",
    "        st.success(result)\n",
    "        # projects/portfolio/apps/update_covid_db.py\n",
    "\n"
   ]
  }
 ],
 "metadata": {
  "kernelspec": {
   "display_name": "tomfoolery",
   "language": "python",
   "name": "tomfoolery"
  },
  "language_info": {
   "codemirror_mode": {
    "name": "ipython",
    "version": 3
   },
   "file_extension": ".py",
   "mimetype": "text/x-python",
   "name": "python",
   "nbconvert_exporter": "python",
   "pygments_lexer": "ipython3",
   "version": "3.6.12"
  }
 },
 "nbformat": 4,
 "nbformat_minor": 4
}
